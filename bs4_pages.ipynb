{
 "cells": [
  {
   "cell_type": "code",
   "execution_count": 28,
   "metadata": {},
   "outputs": [],
   "source": [
    "import requests\n",
    "from bs4 import BeautifulSoup as bs \n",
    "\n",
    "# get the web page (https://books.toscrape.com/) html code\n",
    "get_html = requests.get('https://books.toscrape.com/catalogue/page-1.html')\n",
    "if get_html.status_code == 200:\n",
    "    soup = bs(get_html.content, 'html.parser') \n",
    "    # find a link to the next page of the site\n",
    "    next_page = 'https://books.toscrape.com/catalogue/' + soup.find('li', attrs={'class': 'next'}).find('a')['href']\n",
    "    \n",
    "    get_next_html = requests.get(next_page)   # get next simple html page\n",
    "    #if get_next_html.status_code == 200:\n",
    "        #print(get_next_html.content)"
   ]
  },
  {
   "cell_type": "code",
   "execution_count": 29,
   "metadata": {},
   "outputs": [],
   "source": [
    "# get get image, title and price from the page\n",
    "def get_books(content):\n",
    "    soup = bs(content, 'html.parser')             # make a soup from the html page\n",
    "    ol = soup.find('ol', attrs={'class': 'row'})  # find a list of books on the page\n",
    "    books = ol.select('li')                       # find all book on the page\n",
    "    # make a dict; get image, title and price; add them to the dict for each book\n",
    "    books_data = []\n",
    "    for book in books:\n",
    "        image = 'https://books.toscrape.com/' + book.find('div', attrs={'class': 'image_container'}).find('img')['src']\n",
    "        title = book.find('h3').find('a')['title']\n",
    "        price = book.find('p', attrs={'class': 'price_color'}).text\n",
    "        \n",
    "        book_dict = {\n",
    "            'image': image,\n",
    "            'title': title,\n",
    "            'price': price\n",
    "        }\n",
    "        books_data.append(book_dict)\n",
    "    return books_data"
   ]
  },
  {
   "cell_type": "code",
   "execution_count": 30,
   "metadata": {},
   "outputs": [],
   "source": [
    "# find the next page of the site https://books.toscrape.com/\n",
    "def get_next_page(content):\n",
    "    soup = bs(content, 'html.parser')\n",
    "    try:\n",
    "        next_page = 'https://books.toscrape.com/catalogue/' + soup.find('li', attrs={'class': 'next'}).find('a')['href']\n",
    "        return next_page\n",
    "    except:\n",
    "        pass"
   ]
  },
  {
   "cell_type": "code",
   "execution_count": null,
   "metadata": {},
   "outputs": [],
   "source": [
    "# main script\n",
    "final_data = []\n",
    "page_number = 1   # start scrapping always from the 1st page\n",
    "url = 'https://books.toscrape.com/catalogue/page-1.html'\n",
    "get_html = requests.get(url)\n",
    "\n",
    "if get_html.status_code == 200:\n",
    "    \n",
    "    while True:\n",
    "        books = get_books(get_html.content)\n",
    "        print(f'We have got {len(books)} books from the page number {page_number}')\n",
    "        final_data += books\n",
    "\n",
    "        next_page = get_next_page(get_html.content)\n",
    "        if next_page: \n",
    "            page_number += 1\n",
    "            get_html = requests.get(next_page)\n",
    "            if get_html.status_code == 200:\n",
    "                print(f'Starts scraping {page_number}')\n",
    "        else:\n",
    "            break\n",
    "\n",
    "print(f'Scraping completed! Total: {page_number} pages with {len(final_data)} books.')\n"
   ]
  }
 ],
 "metadata": {
  "interpreter": {
   "hash": "31f2aee4e71d21fbe5cf8b01ff0e069b9275f58929596ceb00d14d90e3e16cd6"
  },
  "kernelspec": {
   "display_name": "Python 3.9.7 64-bit",
   "language": "python",
   "name": "python3"
  },
  "language_info": {
   "codemirror_mode": {
    "name": "ipython",
    "version": 3
   },
   "file_extension": ".py",
   "mimetype": "text/x-python",
   "name": "python",
   "nbconvert_exporter": "python",
   "pygments_lexer": "ipython3",
   "version": "3.9.7"
  },
  "orig_nbformat": 4
 },
 "nbformat": 4,
 "nbformat_minor": 2
}
